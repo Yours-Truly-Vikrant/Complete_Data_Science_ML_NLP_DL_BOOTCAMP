{
  "nbformat": 4,
  "nbformat_minor": 0,
  "metadata": {
    "colab": {
      "provenance": []
    },
    "kernelspec": {
      "name": "python3",
      "display_name": "Python 3"
    },
    "language_info": {
      "name": "python"
    }
  },
  "cells": [
    {
      "cell_type": "code",
      "execution_count": 1,
      "metadata": {
        "id": "UoN69fVzV3kq"
      },
      "outputs": [],
      "source": [
        "a=100"
      ]
    },
    {
      "cell_type": "code",
      "source": [
        "#Declaring and assigning variable\n",
        "age=32\n",
        "height=6.1\n",
        "name=\"vikrant\"\n",
        "is_student=True\n",
        "\n",
        "#printing variables\n",
        "print(\"Age:\", age)\n",
        "print(\"Height:\", height)\n",
        "print(\"Name:\", name)\n"
      ],
      "metadata": {
        "colab": {
          "base_uri": "https://localhost:8080/"
        },
        "id": "rHcIFcUQWJ5v",
        "outputId": "78156014-0091-46c0-9f95-330092b24afa"
      },
      "execution_count": 2,
      "outputs": [
        {
          "output_type": "stream",
          "name": "stdout",
          "text": [
            "Age: 32\n",
            "Height: 6.1\n",
            "Name: vikrant\n"
          ]
        }
      ]
    },
    {
      "cell_type": "code",
      "source": [
        "#Naming Convention\n",
        "#Variable names should be descriptive\n",
        "#They must always start with letter or an underscore and contain letters, numbers and underescores\n",
        "#Variables names are case sensitive\n",
        "\n",
        "#valid variable names\n",
        "\n",
        "first_name=\"Vikrant\"\n",
        "last_name=\"Nikam\"\n"
      ],
      "metadata": {
        "id": "RrqwrdCJWjO3"
      },
      "execution_count": 3,
      "outputs": []
    },
    {
      "cell_type": "code",
      "source": [
        "#Invalid variables names\n",
        "#2age=30\n",
        "#first-name=\"Vky\"\n",
        "#@name=\"Vky\"\n"
      ],
      "metadata": {
        "id": "ANBeAMgVW-ZN"
      },
      "execution_count": 4,
      "outputs": []
    },
    {
      "cell_type": "code",
      "source": [
        "#Case Sensitive\n",
        "name=\"Nikam\"\n",
        "Name=\"Vikrant\"\n"
      ],
      "metadata": {
        "id": "OhzzksvoXJSz"
      },
      "execution_count": 5,
      "outputs": []
    },
    {
      "cell_type": "code",
      "source": [
        "#understanding variable types\n",
        "#Python is dynamically typed, type of variable is determined at runtime\n",
        "\n",
        "age=25 #int\n",
        "height=6.1 #float\n",
        "is_student=True #bool\n",
        "name=\"Vikrant\" #str\n",
        "\n",
        "print(type(name))"
      ],
      "metadata": {
        "colab": {
          "base_uri": "https://localhost:8080/"
        },
        "id": "_ivkol-QXSWm",
        "outputId": "d202ac7f-6541-4adc-8837-4cc238ed3a98"
      },
      "execution_count": 6,
      "outputs": [
        {
          "output_type": "stream",
          "name": "stdout",
          "text": [
            "<class 'str'>\n"
          ]
        }
      ]
    },
    {
      "cell_type": "code",
      "source": [
        "#type checking and conversion\n",
        "\n",
        "type(height)\n",
        "age=25\n",
        "print(type(age))\n",
        "\n",
        "#Type_conversion\n",
        "\n",
        "age_str=str(age)\n",
        "print(type(age_str))"
      ],
      "metadata": {
        "colab": {
          "base_uri": "https://localhost:8080/"
        },
        "id": "ejIMkemxXrAh",
        "outputId": "7a30c53b-3e5c-4487-e123-c9da6baf4015"
      },
      "execution_count": 7,
      "outputs": [
        {
          "output_type": "stream",
          "name": "stdout",
          "text": [
            "<class 'int'>\n",
            "<class 'str'>\n"
          ]
        }
      ]
    },
    {
      "cell_type": "code",
      "source": [
        "age='25'\n",
        "int(age)\n",
        "\n",
        "print(type(int(age)))"
      ],
      "metadata": {
        "colab": {
          "base_uri": "https://localhost:8080/"
        },
        "id": "DtuG4ycbX8Q-",
        "outputId": "33c84b80-8545-42f4-9431-9340b350027e"
      },
      "execution_count": 8,
      "outputs": [
        {
          "output_type": "stream",
          "name": "stdout",
          "text": [
            "<class 'int'>\n"
          ]
        }
      ]
    },
    {
      "cell_type": "code",
      "source": [
        "name=\"Krish\"\n",
        "#5int(name)\n",
        "\n",
        "#This cannot be done"
      ],
      "metadata": {
        "id": "JEK5eGQmYFeM"
      },
      "execution_count": 9,
      "outputs": []
    },
    {
      "cell_type": "code",
      "source": [
        "height=5.1\n",
        "type(height)"
      ],
      "metadata": {
        "colab": {
          "base_uri": "https://localhost:8080/"
        },
        "id": "LXyJZbs5YO-6",
        "outputId": "4233388b-cb8b-4a93-a47c-6244720e672d"
      },
      "execution_count": 10,
      "outputs": [
        {
          "output_type": "execute_result",
          "data": {
            "text/plain": [
              "float"
            ]
          },
          "metadata": {},
          "execution_count": 10
        }
      ]
    },
    {
      "cell_type": "code",
      "source": [
        "int(height)\n",
        "print(type(int(height)))"
      ],
      "metadata": {
        "colab": {
          "base_uri": "https://localhost:8080/"
        },
        "id": "kPtwGzE9YWrg",
        "outputId": "b5726814-d2d9-44c6-a47b-6110b065b28d"
      },
      "execution_count": 11,
      "outputs": [
        {
          "output_type": "stream",
          "name": "stdout",
          "text": [
            "<class 'int'>\n"
          ]
        }
      ]
    },
    {
      "cell_type": "code",
      "source": [
        "#Dynamic Typing\n",
        "#Python allows the type of a variable as the program executes\n",
        "var=10\n",
        "print(var,type(var))"
      ],
      "metadata": {
        "colab": {
          "base_uri": "https://localhost:8080/"
        },
        "id": "RWYMn8H2Ybgq",
        "outputId": "6d83ef56-e031-4f53-f19f-32aeaed084cb"
      },
      "execution_count": 12,
      "outputs": [
        {
          "output_type": "stream",
          "name": "stdout",
          "text": [
            "10 <class 'int'>\n"
          ]
        }
      ]
    },
    {
      "cell_type": "code",
      "source": [
        "var=\"Hello\"\n",
        "print(var,type(var))"
      ],
      "metadata": {
        "colab": {
          "base_uri": "https://localhost:8080/"
        },
        "id": "sWewANI1YkrE",
        "outputId": "51d5cbd2-5f49-470a-824a-4b0e2750132e"
      },
      "execution_count": 13,
      "outputs": [
        {
          "output_type": "stream",
          "name": "stdout",
          "text": [
            "Hello <class 'str'>\n"
          ]
        }
      ]
    },
    {
      "cell_type": "code",
      "source": [
        "##Input\n",
        "age=input(\"What is the age \")\n",
        "print(age, type(age))\n",
        "\n",
        "\n",
        "age=int(input(\"What is the age \"))\n",
        "print(age, type(age))"
      ],
      "metadata": {
        "colab": {
          "base_uri": "https://localhost:8080/"
        },
        "id": "iZ8-QpHaYwhe",
        "outputId": "7d3468ea-e967-438b-e35e-eecb03b377fb"
      },
      "execution_count": 14,
      "outputs": [
        {
          "output_type": "stream",
          "name": "stdout",
          "text": [
            "What is the age 5\n",
            "5 <class 'str'>\n",
            "What is the age 5\n",
            "5 <class 'int'>\n"
          ]
        }
      ]
    }
  ]
}