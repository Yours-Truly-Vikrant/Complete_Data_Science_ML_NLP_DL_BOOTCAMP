{
  "nbformat": 4,
  "nbformat_minor": 0,
  "metadata": {
    "colab": {
      "provenance": []
    },
    "kernelspec": {
      "name": "python3",
      "display_name": "Python 3"
    },
    "language_info": {
      "name": "python"
    }
  },
  "cells": [
    {
      "cell_type": "code",
      "execution_count": 9,
      "metadata": {
        "colab": {
          "base_uri": "https://localhost:8080/"
        },
        "id": "G3nW7xI3Pl8k",
        "outputId": "a2a7cdd6-5e31-4d2f-acee-27201ab6b6fa"
      },
      "outputs": [
        {
          "output_type": "stream",
          "name": "stdout",
          "text": [
            "Vikrant\n",
            "Nikam\n"
          ]
        }
      ],
      "source": [
        "name=\"Vikrant\";\n",
        "Name=\"Nikam\"\n",
        "print(name)\n",
        "print(Name)"
      ]
    },
    {
      "cell_type": "code",
      "source": [
        "age=32\n",
        "if age>30:\n",
        "    print(\"age is greater than 30\")\n",
        "else:\n",
        "    print(\"age is less than 30\")"
      ],
      "metadata": {
        "colab": {
          "base_uri": "https://localhost:8080/"
        },
        "id": "OflD8KHyQjVL",
        "outputId": "2527a8b9-8bdb-4395-e8d8-ef64051aef83"
      },
      "execution_count": 10,
      "outputs": [
        {
          "output_type": "stream",
          "name": "stdout",
          "text": [
            "age is greater than 30\n"
          ]
        }
      ]
    },
    {
      "cell_type": "code",
      "source": [
        "#Line Continuation\n",
        "total=1+2+3+4+5+6\\\n",
        "+7+8+9+10\n",
        "print(total)"
      ],
      "metadata": {
        "colab": {
          "base_uri": "https://localhost:8080/"
        },
        "id": "d_BuCOyGQjch",
        "outputId": "2097f72c-6572-4a5e-c6da-9eb353e13e5e"
      },
      "execution_count": 11,
      "outputs": [
        {
          "output_type": "stream",
          "name": "stdout",
          "text": [
            "55\n"
          ]
        }
      ]
    },
    {
      "cell_type": "code",
      "source": [
        "#Multiple statements on a single line\n",
        "x=10;y=20;z=30\n",
        "print(x,y,z)"
      ],
      "metadata": {
        "colab": {
          "base_uri": "https://localhost:8080/"
        },
        "id": "7ojFH0YsQjgv",
        "outputId": "6992744b-786a-4c37-fad0-6f0c6a566682"
      },
      "execution_count": 12,
      "outputs": [
        {
          "output_type": "stream",
          "name": "stdout",
          "text": [
            "10 20 30\n"
          ]
        }
      ]
    },
    {
      "cell_type": "code",
      "source": [
        "#Understanding Semantics in Python\n",
        "#variable assignment\n",
        "age=32 #Age is an integer\n",
        "name=\"Krish\" ##name is a string\n",
        "type(age)"
      ],
      "metadata": {
        "colab": {
          "base_uri": "https://localhost:8080/"
        },
        "id": "oRuTAUp2QjkS",
        "outputId": "bc0189b2-c551-438a-b2ae-09a383240869"
      },
      "execution_count": 13,
      "outputs": [
        {
          "output_type": "execute_result",
          "data": {
            "text/plain": [
              "int"
            ]
          },
          "metadata": {},
          "execution_count": 13
        }
      ]
    },
    {
      "cell_type": "code",
      "source": [
        "#Type Inference\n",
        "variable=10\n",
        "print(type(variable))\n",
        "variable=\"Vikrant\"\n",
        "print(type(variable))"
      ],
      "metadata": {
        "colab": {
          "base_uri": "https://localhost:8080/"
        },
        "id": "s-bPBEFTSVD7",
        "outputId": "4058998b-9929-48ab-f425-76892c3ac16f"
      },
      "execution_count": 14,
      "outputs": [
        {
          "output_type": "stream",
          "name": "stdout",
          "text": [
            "<class 'int'>\n",
            "<class 'str'>\n"
          ]
        }
      ]
    },
    {
      "cell_type": "code",
      "source": [
        "#Code examples of Indentation\n",
        "if True:\n",
        "    print(\"Correct Indentation\")\n",
        "    if False:\n",
        "        print(\"This won't print\")\n",
        "    print(\"This will print\")\n",
        "print(\"Outside the if block\")"
      ],
      "metadata": {
        "colab": {
          "base_uri": "https://localhost:8080/"
        },
        "id": "pKgzL_DyQjn4",
        "outputId": "0c289e22-c771-42ae-b84e-2a9798bc4816"
      },
      "execution_count": 15,
      "outputs": [
        {
          "output_type": "stream",
          "name": "stdout",
          "text": [
            "Correct Indentation\n",
            "This will print\n",
            "Outside the if block\n"
          ]
        }
      ]
    }
  ]
}