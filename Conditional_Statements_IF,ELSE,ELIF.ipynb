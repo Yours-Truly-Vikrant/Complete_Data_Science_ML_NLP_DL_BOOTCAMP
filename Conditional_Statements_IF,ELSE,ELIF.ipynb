{
  "nbformat": 4,
  "nbformat_minor": 0,
  "metadata": {
    "colab": {
      "provenance": []
    },
    "kernelspec": {
      "name": "python3",
      "display_name": "Python 3"
    },
    "language_info": {
      "name": "python"
    }
  },
  "cells": [
    {
      "cell_type": "code",
      "execution_count": 1,
      "metadata": {
        "colab": {
          "base_uri": "https://localhost:8080/"
        },
        "id": "h4xUjpYGkfeZ",
        "outputId": "096e3475-5ba2-463c-bcf9-7721386248f6"
      },
      "outputs": [
        {
          "output_type": "stream",
          "name": "stdout",
          "text": [
            "You are allowed to vote in the elections\n"
          ]
        }
      ],
      "source": [
        "##If Statement\n",
        "age=20\n",
        "\n",
        "if age>=18:\n",
        "    print(\"You are allowed to vote in the elections\")"
      ]
    },
    {
      "cell_type": "code",
      "source": [
        "age>=18"
      ],
      "metadata": {
        "colab": {
          "base_uri": "https://localhost:8080/"
        },
        "id": "-KDplBOco7gw",
        "outputId": "1cdac1ca-127c-42af-de7f-89ebd40480b4"
      },
      "execution_count": 2,
      "outputs": [
        {
          "output_type": "execute_result",
          "data": {
            "text/plain": [
              "True"
            ]
          },
          "metadata": {},
          "execution_count": 2
        }
      ]
    },
    {
      "cell_type": "code",
      "source": [
        "##else\n",
        "\n",
        "age=16\n",
        "if age>=18:\n",
        "    print(\"You are allowed to vote in the elections\")\n",
        "else:\n",
        "    print(\"You are not allowed to vote in the elections\")"
      ],
      "metadata": {
        "colab": {
          "base_uri": "https://localhost:8080/"
        },
        "id": "TocynRAppAQk",
        "outputId": "8647f3f6-85a0-45a5-c97c-abfbe0653b94"
      },
      "execution_count": 3,
      "outputs": [
        {
          "output_type": "stream",
          "name": "stdout",
          "text": [
            "You are not allowed to vote in the elections\n"
          ]
        }
      ]
    },
    {
      "cell_type": "code",
      "source": [
        "##elif\n",
        "age=16\n",
        "\n",
        "if age<13:\n",
        "    print(\"You are a child\")\n",
        "elif age<18:\n",
        "    print(\"You are a teenager\")\n",
        "else:\n",
        "    print(\"You are an adult\")"
      ],
      "metadata": {
        "colab": {
          "base_uri": "https://localhost:8080/"
        },
        "id": "tBj1D-p5phto",
        "outputId": "6fa7784c-12d3-4bc7-9ffb-db3b71375c8a"
      },
      "execution_count": 4,
      "outputs": [
        {
          "output_type": "stream",
          "name": "stdout",
          "text": [
            "You are a teenager\n"
          ]
        }
      ]
    },
    {
      "cell_type": "code",
      "source": [
        "##Nested Conditional Statement\n",
        "##number is even or negative\n",
        "num=int(input(\"Enter the number: \"))\n",
        "if num>=0:\n",
        "    print(\"The number is positive\")\n",
        "    if num%2==0:\n",
        "        print(\"The number is even\")\n",
        "    else:\n",
        "        print(\"The Number is odd\")\n",
        "else:\n",
        "    print(\"The number is negative\")"
      ],
      "metadata": {
        "colab": {
          "base_uri": "https://localhost:8080/"
        },
        "id": "jN37Lvb0p3HL",
        "outputId": "e2371551-01ee-4f6a-81b0-c7d30714f07f"
      },
      "execution_count": 5,
      "outputs": [
        {
          "output_type": "stream",
          "name": "stdout",
          "text": [
            "Enter the number: 6\n",
            "The number is positive\n",
            "The number is even\n"
          ]
        }
      ]
    },
    {
      "cell_type": "code",
      "source": [
        "##Practical Example\n",
        "##Determine if a year is a leap year\n",
        "year=int(input(\"Enter the year: \"))\n",
        "\n",
        "if (year%4==0):\n",
        "    if year%100==0:\n",
        "        if year%400==0:\n",
        "            print(year, \"is a leap year\")\n",
        "        else:\n",
        "            print(year,\"is not a leap year\")\n",
        "    else:\n",
        "        print(year,\"is a leap year\")\n",
        "else:\n",
        "    print(year,\"is not a leap year\")"
      ],
      "metadata": {
        "colab": {
          "base_uri": "https://localhost:8080/"
        },
        "id": "OZyMg5v8rTOJ",
        "outputId": "ccb58e94-3a74-4f02-99f3-9e010fb48ccc"
      },
      "execution_count": 8,
      "outputs": [
        {
          "output_type": "stream",
          "name": "stdout",
          "text": [
            "Enter the year: 1976\n",
            "1976 is a leap year\n"
          ]
        }
      ]
    }
  ]
}