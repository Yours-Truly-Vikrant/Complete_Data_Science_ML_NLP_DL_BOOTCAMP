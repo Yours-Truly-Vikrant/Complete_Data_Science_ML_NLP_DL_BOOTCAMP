{
  "nbformat": 4,
  "nbformat_minor": 0,
  "metadata": {
    "colab": {
      "provenance": []
    },
    "kernelspec": {
      "name": "python3",
      "display_name": "Python 3"
    },
    "language_info": {
      "name": "python"
    }
  },
  "cells": [
    {
      "cell_type": "code",
      "execution_count": 5,
      "metadata": {
        "colab": {
          "base_uri": "https://localhost:8080/"
        },
        "id": "6BNOIrUkfkzk",
        "outputId": "46c9b03d-5819-4013-cd8b-34c82c5a1e31"
      },
      "outputs": [
        {
          "output_type": "stream",
          "name": "stdout",
          "text": [
            "25\n",
            "-5\n",
            "150\n",
            "0.6666666666666666\n",
            "0\n",
            "10\n",
            "1000000000000000\n"
          ]
        }
      ],
      "source": [
        "#Arithmetic Operations\n",
        "a=10\n",
        "b=15\n",
        "result=a+b #addition\n",
        "sub=a-b #substraction\n",
        "mul=a*b #multiplication\n",
        "div=a/b #division\n",
        "floor_div=a//b #floor division\n",
        "modulus_result=a%b #modulus\n",
        "expo_result=a**b\n",
        "print(result)\n",
        "print(sub)\n",
        "print(mul)\n",
        "print(div)\n",
        "print(floor_div)\n",
        "print(modulus_result)\n",
        "print(expo_result)"
      ]
    },
    {
      "cell_type": "code",
      "source": [
        "10/5"
      ],
      "metadata": {
        "colab": {
          "base_uri": "https://localhost:8080/"
        },
        "id": "fFtQ7u3eg8vw",
        "outputId": "d406dbfb-fdda-4491-af9b-a8655fcbbfdf"
      },
      "execution_count": 6,
      "outputs": [
        {
          "output_type": "execute_result",
          "data": {
            "text/plain": [
              "2.0"
            ]
          },
          "metadata": {},
          "execution_count": 6
        }
      ]
    },
    {
      "cell_type": "code",
      "source": [
        "21/5"
      ],
      "metadata": {
        "colab": {
          "base_uri": "https://localhost:8080/"
        },
        "id": "NXBA1Xasg_Dr",
        "outputId": "87d687ab-ed62-4158-cd4f-05964c936112"
      },
      "execution_count": 7,
      "outputs": [
        {
          "output_type": "execute_result",
          "data": {
            "text/plain": [
              "4.2"
            ]
          },
          "metadata": {},
          "execution_count": 7
        }
      ]
    },
    {
      "cell_type": "code",
      "source": [
        "21//5"
      ],
      "metadata": {
        "colab": {
          "base_uri": "https://localhost:8080/"
        },
        "id": "WB8M6YKVhAPw",
        "outputId": "62564d3c-b2c0-4867-bca6-9202408cfe8c"
      },
      "execution_count": 8,
      "outputs": [
        {
          "output_type": "execute_result",
          "data": {
            "text/plain": [
              "4"
            ]
          },
          "metadata": {},
          "execution_count": 8
        }
      ]
    },
    {
      "cell_type": "code",
      "source": [
        "21%5"
      ],
      "metadata": {
        "colab": {
          "base_uri": "https://localhost:8080/"
        },
        "id": "yG0p2iHxhBm8",
        "outputId": "d1a2846b-0ef2-4c68-ad35-04e63dee1615"
      },
      "execution_count": 9,
      "outputs": [
        {
          "output_type": "execute_result",
          "data": {
            "text/plain": [
              "1"
            ]
          },
          "metadata": {},
          "execution_count": 9
        }
      ]
    },
    {
      "cell_type": "code",
      "source": [
        "#comparison Operators\n",
        "\n",
        "##==\n",
        "a=10\n",
        "b=10\n",
        "a==b\n"
      ],
      "metadata": {
        "colab": {
          "base_uri": "https://localhost:8080/"
        },
        "id": "IDEE8_N1hHaR",
        "outputId": "2dcc8651-6f11-4740-de96-643290133c16"
      },
      "execution_count": 10,
      "outputs": [
        {
          "output_type": "execute_result",
          "data": {
            "text/plain": [
              "True"
            ]
          },
          "metadata": {},
          "execution_count": 10
        }
      ]
    },
    {
      "cell_type": "code",
      "source": [
        "str1=\"Vikrant\"\n",
        "str2=\"Vikrant\"\n",
        "str1==str2"
      ],
      "metadata": {
        "colab": {
          "base_uri": "https://localhost:8080/"
        },
        "id": "jYcHiIHGhQOg",
        "outputId": "ce8ff62d-005e-4139-c803-b45f2e65c414"
      },
      "execution_count": 12,
      "outputs": [
        {
          "output_type": "execute_result",
          "data": {
            "text/plain": [
              "True"
            ]
          },
          "metadata": {},
          "execution_count": 12
        }
      ]
    },
    {
      "cell_type": "code",
      "source": [
        "##Not Equal to\n",
        "str1!=str2"
      ],
      "metadata": {
        "colab": {
          "base_uri": "https://localhost:8080/"
        },
        "id": "nc2-DWJyhbWe",
        "outputId": "2c9469b1-56b7-463f-f07e-2e416636d636"
      },
      "execution_count": 13,
      "outputs": [
        {
          "output_type": "execute_result",
          "data": {
            "text/plain": [
              "False"
            ]
          },
          "metadata": {},
          "execution_count": 13
        }
      ]
    },
    {
      "cell_type": "code",
      "source": [
        "str1=\"Vikrant\"\n",
        "str2=\"vikrant\"\n",
        "str1!=str2"
      ],
      "metadata": {
        "colab": {
          "base_uri": "https://localhost:8080/"
        },
        "id": "ZciWaCiHhglr",
        "outputId": "fece8946-f715-433f-8a8c-463d073c9930"
      },
      "execution_count": 14,
      "outputs": [
        {
          "output_type": "execute_result",
          "data": {
            "text/plain": [
              "True"
            ]
          },
          "metadata": {},
          "execution_count": 14
        }
      ]
    },
    {
      "cell_type": "code",
      "source": [
        "#Greater than\n",
        "a=45;\n",
        "b=55\n",
        "a>b"
      ],
      "metadata": {
        "colab": {
          "base_uri": "https://localhost:8080/"
        },
        "id": "oFOyKZqwhb3P",
        "outputId": "d3b98ba9-425e-4835-f669-2aafe2c805ae"
      },
      "execution_count": 15,
      "outputs": [
        {
          "output_type": "execute_result",
          "data": {
            "text/plain": [
              "False"
            ]
          },
          "metadata": {},
          "execution_count": 15
        }
      ]
    },
    {
      "cell_type": "code",
      "source": [
        "##less than\n",
        "a=45;\n",
        "b=55\n",
        "a<b"
      ],
      "metadata": {
        "colab": {
          "base_uri": "https://localhost:8080/"
        },
        "id": "3w3bjG25hb6P",
        "outputId": "a72e6314-9db2-43f2-8221-147d01242248"
      },
      "execution_count": 16,
      "outputs": [
        {
          "output_type": "execute_result",
          "data": {
            "text/plain": [
              "True"
            ]
          },
          "metadata": {},
          "execution_count": 16
        }
      ]
    },
    {
      "cell_type": "code",
      "source": [
        "#Greater then equal to\n",
        "number1=45\n",
        "number2=45\n",
        "number1>=number2"
      ],
      "metadata": {
        "colab": {
          "base_uri": "https://localhost:8080/"
        },
        "id": "Syy6kceChb9L",
        "outputId": "d0947f9f-6ac0-4787-864f-a917bdffd795"
      },
      "execution_count": 17,
      "outputs": [
        {
          "output_type": "execute_result",
          "data": {
            "text/plain": [
              "True"
            ]
          },
          "metadata": {},
          "execution_count": 17
        }
      ]
    },
    {
      "cell_type": "code",
      "source": [
        "#less than or equal to\n",
        "number1<=number2"
      ],
      "metadata": {
        "colab": {
          "base_uri": "https://localhost:8080/"
        },
        "id": "cVYFLnzbhcAG",
        "outputId": "88c197de-1e4d-4982-ef87-fdfb9dc9e47d"
      },
      "execution_count": 18,
      "outputs": [
        {
          "output_type": "execute_result",
          "data": {
            "text/plain": [
              "True"
            ]
          },
          "metadata": {},
          "execution_count": 18
        }
      ]
    },
    {
      "cell_type": "code",
      "source": [
        "#Logical Operators\n",
        "##And, Not, OR\n",
        "X=True\n",
        "Y=True\n",
        "\n",
        "result=X and Y\n",
        "print(result)"
      ],
      "metadata": {
        "colab": {
          "base_uri": "https://localhost:8080/"
        },
        "id": "RgYWoMbQhcC_",
        "outputId": "8c5fe132-1bb4-4bf3-a357-20f9a143e539"
      },
      "execution_count": 19,
      "outputs": [
        {
          "output_type": "stream",
          "name": "stdout",
          "text": [
            "True\n"
          ]
        }
      ]
    },
    {
      "cell_type": "code",
      "source": [
        "X=True\n",
        "Y=False\n",
        "\n",
        "result=X and Y\n",
        "print(result)"
      ],
      "metadata": {
        "colab": {
          "base_uri": "https://localhost:8080/"
        },
        "id": "a9zmjYkihcF5",
        "outputId": "f99afcb0-821c-4fe5-fa1e-530d485a8c32"
      },
      "execution_count": 20,
      "outputs": [
        {
          "output_type": "stream",
          "name": "stdout",
          "text": [
            "False\n"
          ]
        }
      ]
    },
    {
      "cell_type": "code",
      "source": [
        "##OR Operators\n",
        "X=True\n",
        "Y=True\n",
        "\n",
        "result=X or Y\n",
        "print(result)"
      ],
      "metadata": {
        "colab": {
          "base_uri": "https://localhost:8080/"
        },
        "id": "KM_NjgC_hcI7",
        "outputId": "0d7032f1-2424-4528-831f-24727045b070"
      },
      "execution_count": 21,
      "outputs": [
        {
          "output_type": "stream",
          "name": "stdout",
          "text": [
            "True\n"
          ]
        }
      ]
    },
    {
      "cell_type": "code",
      "source": [
        "X=False\n",
        "Y=False\n",
        "\n",
        "result=X or Y\n",
        "print(result)"
      ],
      "metadata": {
        "colab": {
          "base_uri": "https://localhost:8080/"
        },
        "id": "oxp2BQkJhcNJ",
        "outputId": "1c6f7d28-9661-4411-fd78-eaff568905fe"
      },
      "execution_count": 22,
      "outputs": [
        {
          "output_type": "stream",
          "name": "stdout",
          "text": [
            "False\n"
          ]
        }
      ]
    },
    {
      "cell_type": "code",
      "source": [
        "#Not Operator\n",
        "X=True\n",
        "not X"
      ],
      "metadata": {
        "colab": {
          "base_uri": "https://localhost:8080/"
        },
        "id": "KMT9c-3qhcQP",
        "outputId": "e29c0e69-7ba4-43bd-d75f-c9025aff5914"
      },
      "execution_count": 23,
      "outputs": [
        {
          "output_type": "execute_result",
          "data": {
            "text/plain": [
              "False"
            ]
          },
          "metadata": {},
          "execution_count": 23
        }
      ]
    },
    {
      "cell_type": "code",
      "source": [],
      "metadata": {
        "id": "7emJlvQ7hcTv"
      },
      "execution_count": 23,
      "outputs": []
    }
  ]
}